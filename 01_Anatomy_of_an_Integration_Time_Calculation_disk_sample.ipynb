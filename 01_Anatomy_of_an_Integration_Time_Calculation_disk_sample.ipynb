{
  "cells": [
    {
      "cell_type": "markdown",
      "metadata": {
        "id": "view-in-github",
        "colab_type": "text"
      },
      "source": [
        "<a href=\"https://colab.research.google.com/github/ChenXie-astro/corgietc/blob/main/01_Anatomy_of_an_Integration_Time_Calculation_disk_sample.ipynb\" target=\"_parent\"><img src=\"https://colab.research.google.com/assets/colab-badge.svg\" alt=\"Open In Colab\"/></a>"
      ]
    },
    {
      "cell_type": "markdown",
      "id": "9bbdbe86-3d9b-4df8-8069-75a0dc28cd16",
      "metadata": {
        "id": "9bbdbe86-3d9b-4df8-8069-75a0dc28cd16"
      },
      "source": [
        "# Anatomy of an Integration Time Calculation\n",
        "\n",
        "This sheet walks through the basics of exposure time calculations and describes each of the required inputs."
      ]
    },
    {
      "cell_type": "markdown",
      "id": "d00d9061-6f37-4844-a4db-1661c5e1095d",
      "metadata": {
        "id": "d00d9061-6f37-4844-a4db-1661c5e1095d"
      },
      "source": [
        "\n",
        "If running via Google Colab, you must first execute the contents of notebook `00_Google_Colab_Setup.ipynb` (only if you have never done so previously). Then execute all cells tagged with &#128992;.  If running via a local installation, you should skip all of the colab-specific (&#128992;) cells."
      ]
    },
    {
      "cell_type": "markdown",
      "id": "55100749-7ed1-45c0-b806-c0852a65fb90",
      "metadata": {
        "id": "55100749-7ed1-45c0-b806-c0852a65fb90"
      },
      "source": [
        "## 🟠 Setup for Google Colab Use"
      ]
    },
    {
      "cell_type": "markdown",
      "id": "91acefdf-b9fd-439a-8e35-37d00b6a80e6",
      "metadata": {
        "id": "91acefdf-b9fd-439a-8e35-37d00b6a80e6"
      },
      "source": [
        "### 🟠 Run the next cell to mount the Google Drive\n",
        "\n",
        "You will receive some or all of the following prompts:\n",
        "\n",
        "* Warning: This notebook was not authored by Google - Click \"Run Anyway\"\n",
        "* Permit this notebook to access your Google Drive files? - Click \"Connect to Google Drive\"\n",
        "* A new browser window will prompt you to select an account and authorize access\n",
        "  * Select the Google account you wish to use and click Continue on each subsequent screen until the dialog vanishes\n",
        "\n",
        "Upon completion of cell execution, you should see `Mounted at /content/drive`"
      ]
    },
    {
      "cell_type": "code",
      "execution_count": 1,
      "id": "d5a335a0-c5bd-4b3e-b27e-38c7f1d9dd5a",
      "metadata": {
        "id": "d5a335a0-c5bd-4b3e-b27e-38c7f1d9dd5a",
        "colab": {
          "base_uri": "https://localhost:8080/"
        },
        "outputId": "f4aaa912-721d-4963-e915-780301b40cd1"
      },
      "outputs": [
        {
          "output_type": "stream",
          "name": "stdout",
          "text": [
            "Drive already mounted at /content/drive; to attempt to forcibly remount, call drive.mount(\"/content/drive\", force_remount=True).\n"
          ]
        }
      ],
      "source": [
        "from google.colab import drive\n",
        "drive.mount('/content/drive')"
      ]
    },
    {
      "cell_type": "markdown",
      "id": "7f437665-5999-4b53-8feb-3d9bd4c38291",
      "metadata": {
        "id": "7f437665-5999-4b53-8feb-3d9bd4c38291"
      },
      "source": [
        "### 🟠 Run the next cell to change to the corgietc directory and install the required software\n",
        "\n",
        "This process should take less than a minute, but, depending on bandwidth availability, may take as long as a few minutes. You will see a variety of messages about package downloads.  Upon completion of cell execution, you should see `Sucessfully installed` followed by a list of installed packages and their versions.\n",
        "\n",
        "You may see the prompt \"Restart session\".  You do not need to do this - click 'Cancel'."
      ]
    },
    {
      "cell_type": "code",
      "execution_count": 2,
      "id": "b333dad4-8c24-4daf-8073-797e393d2413",
      "metadata": {
        "id": "b333dad4-8c24-4daf-8073-797e393d2413",
        "colab": {
          "base_uri": "https://localhost:8080/"
        },
        "outputId": "92cb18f7-8eec-4c3e-b516-93f5463aba96"
      },
      "outputs": [
        {
          "output_type": "stream",
          "name": "stdout",
          "text": [
            "Already up to date.\n",
            "Processing /content/drive/MyDrive/corgietc/cgi_noise\n",
            "  Installing build dependencies ... \u001b[?25l\u001b[?25hdone\n",
            "  Getting requirements to build wheel ... \u001b[?25l\u001b[?25hdone\n",
            "  Preparing metadata (pyproject.toml) ... \u001b[?25l\u001b[?25hdone\n",
            "Requirement already satisfied: numpy in /usr/local/lib/python3.11/dist-packages (from cgi_noise==1.2.0) (2.0.2)\n",
            "Requirement already satisfied: pandas in /usr/local/lib/python3.11/dist-packages (from cgi_noise==1.2.0) (2.2.2)\n",
            "Requirement already satisfied: PyYAML in /usr/local/lib/python3.11/dist-packages (from cgi_noise==1.2.0) (6.0.2)\n",
            "Requirement already satisfied: prettytable in /usr/local/lib/python3.11/dist-packages (from cgi_noise==1.2.0) (3.16.0)\n",
            "Requirement already satisfied: chardet in /usr/local/lib/python3.11/dist-packages (from cgi_noise==1.2.0) (5.2.0)\n",
            "Requirement already satisfied: python-dateutil>=2.8.2 in /usr/local/lib/python3.11/dist-packages (from pandas->cgi_noise==1.2.0) (2.9.0.post0)\n",
            "Requirement already satisfied: pytz>=2020.1 in /usr/local/lib/python3.11/dist-packages (from pandas->cgi_noise==1.2.0) (2025.2)\n",
            "Requirement already satisfied: tzdata>=2022.7 in /usr/local/lib/python3.11/dist-packages (from pandas->cgi_noise==1.2.0) (2025.2)\n",
            "Requirement already satisfied: wcwidth in /usr/local/lib/python3.11/dist-packages (from prettytable->cgi_noise==1.2.0) (0.2.13)\n",
            "Requirement already satisfied: six>=1.5 in /usr/local/lib/python3.11/dist-packages (from python-dateutil>=2.8.2->pandas->cgi_noise==1.2.0) (1.17.0)\n",
            "Building wheels for collected packages: cgi_noise\n",
            "  Building wheel for cgi_noise (pyproject.toml) ... \u001b[?25l\u001b[?25hdone\n",
            "  Created wheel for cgi_noise: filename=cgi_noise-1.2.0-py3-none-any.whl size=74055 sha256=0336e62ba082f44efcb02fb90c71f845baa678a2042379f900d1fe8f29ff2fc0\n",
            "  Stored in directory: /tmp/pip-ephem-wheel-cache-z1cgw3by/wheels/2b/0f/8f/ad1e1c21ed73fe32f3f79f598aa24b0ff8ff1b09ccc6881820\n",
            "Successfully built cgi_noise\n",
            "Installing collected packages: cgi_noise\n",
            "  Attempting uninstall: cgi_noise\n",
            "    Found existing installation: cgi_noise 1.2.0\n",
            "    Uninstalling cgi_noise-1.2.0:\n",
            "      Successfully uninstalled cgi_noise-1.2.0\n",
            "Successfully installed cgi_noise-1.2.0\n",
            "Already up to date.\n",
            "Processing /content/drive/MyDrive/corgietc/corgietc\n",
            "  Installing build dependencies ... \u001b[?25l\u001b[?25hdone\n",
            "  Getting requirements to build wheel ... \u001b[?25l\u001b[?25hdone\n",
            "  Preparing metadata (pyproject.toml) ... \u001b[?25l\u001b[?25hdone\n",
            "Requirement already satisfied: EXOSIMS>=3.6.4 in /usr/local/lib/python3.11/dist-packages (from corgietc==1.2.0) (3.6.5)\n",
            "Requirement already satisfied: cgi_noise>=1.2.0 in /usr/local/lib/python3.11/dist-packages (from corgietc==1.2.0) (1.2.0)\n",
            "Requirement already satisfied: numpy in /usr/local/lib/python3.11/dist-packages (from cgi_noise>=1.2.0->corgietc==1.2.0) (2.0.2)\n",
            "Requirement already satisfied: pandas in /usr/local/lib/python3.11/dist-packages (from cgi_noise>=1.2.0->corgietc==1.2.0) (2.2.2)\n",
            "Requirement already satisfied: PyYAML in /usr/local/lib/python3.11/dist-packages (from cgi_noise>=1.2.0->corgietc==1.2.0) (6.0.2)\n",
            "Requirement already satisfied: prettytable in /usr/local/lib/python3.11/dist-packages (from cgi_noise>=1.2.0->corgietc==1.2.0) (3.16.0)\n",
            "Requirement already satisfied: chardet in /usr/local/lib/python3.11/dist-packages (from cgi_noise>=1.2.0->corgietc==1.2.0) (5.2.0)\n",
            "Requirement already satisfied: scipy>=1.7.2 in /usr/local/lib/python3.11/dist-packages (from EXOSIMS>=3.6.4->corgietc==1.2.0) (1.16.0)\n",
            "Requirement already satisfied: astropy>=6.0.0 in /usr/local/lib/python3.11/dist-packages (from EXOSIMS>=3.6.4->corgietc==1.2.0) (7.1.0)\n",
            "Requirement already satisfied: jplephem>=2.20.0 in /usr/local/lib/python3.11/dist-packages (from EXOSIMS>=3.6.4->corgietc==1.2.0) (2.23)\n",
            "Requirement already satisfied: ortools>=9.0 in /usr/local/lib/python3.11/dist-packages (from EXOSIMS>=3.6.4->corgietc==1.2.0) (9.14.6206)\n",
            "Requirement already satisfied: h5py>=3.7.0 in /usr/local/lib/python3.11/dist-packages (from EXOSIMS>=3.6.4->corgietc==1.2.0) (3.14.0)\n",
            "Requirement already satisfied: astroquery>=0.4.8 in /usr/local/lib/python3.11/dist-packages (from EXOSIMS>=3.6.4->corgietc==1.2.0) (0.4.10)\n",
            "Requirement already satisfied: exo-det-box in /usr/local/lib/python3.11/dist-packages (from EXOSIMS>=3.6.4->corgietc==1.2.0) (0.0.2)\n",
            "Requirement already satisfied: tqdm>=4.59 in /usr/local/lib/python3.11/dist-packages (from EXOSIMS>=3.6.4->corgietc==1.2.0) (4.67.1)\n",
            "Requirement already satisfied: MeanStars>=3.4.0 in /usr/local/lib/python3.11/dist-packages (from EXOSIMS>=3.6.4->corgietc==1.2.0) (3.6.0)\n",
            "Requirement already satisfied: synphot>=1.3.0 in /usr/local/lib/python3.11/dist-packages (from EXOSIMS>=3.6.4->corgietc==1.2.0) (1.6.0)\n",
            "Requirement already satisfied: ipyparallel>=8.0.0 in /usr/local/lib/python3.11/dist-packages (from EXOSIMS>=3.6.4->corgietc==1.2.0) (8.8.0)\n",
            "Requirement already satisfied: keplertools>=1.2.1 in /usr/local/lib/python3.11/dist-packages (from EXOSIMS>=3.6.4->corgietc==1.2.0) (1.4.1)\n",
            "Requirement already satisfied: angutils>=1.0.0 in /usr/local/lib/python3.11/dist-packages (from EXOSIMS>=3.6.4->corgietc==1.2.0) (1.0.0)\n",
            "Requirement already satisfied: pyerfa>=2.0.1.1 in /usr/local/lib/python3.11/dist-packages (from astropy>=6.0.0->EXOSIMS>=3.6.4->corgietc==1.2.0) (2.0.1.5)\n",
            "Requirement already satisfied: astropy-iers-data>=0.2025.4.28.0.37.27 in /usr/local/lib/python3.11/dist-packages (from astropy>=6.0.0->EXOSIMS>=3.6.4->corgietc==1.2.0) (0.2025.7.21.0.41.39)\n",
            "Requirement already satisfied: packaging>=22.0.0 in /usr/local/lib/python3.11/dist-packages (from astropy>=6.0.0->EXOSIMS>=3.6.4->corgietc==1.2.0) (25.0)\n",
            "Requirement already satisfied: requests>=2.19 in /usr/local/lib/python3.11/dist-packages (from astroquery>=0.4.8->EXOSIMS>=3.6.4->corgietc==1.2.0) (2.32.3)\n",
            "Requirement already satisfied: beautifulsoup4>=4.8 in /usr/local/lib/python3.11/dist-packages (from astroquery>=0.4.8->EXOSIMS>=3.6.4->corgietc==1.2.0) (4.13.4)\n",
            "Requirement already satisfied: html5lib>=0.999 in /usr/local/lib/python3.11/dist-packages (from astroquery>=0.4.8->EXOSIMS>=3.6.4->corgietc==1.2.0) (1.1)\n",
            "Requirement already satisfied: keyring>=15.0 in /usr/local/lib/python3.11/dist-packages (from astroquery>=0.4.8->EXOSIMS>=3.6.4->corgietc==1.2.0) (25.6.0)\n",
            "Requirement already satisfied: pyvo>=1.5 in /usr/local/lib/python3.11/dist-packages (from astroquery>=0.4.8->EXOSIMS>=3.6.4->corgietc==1.2.0) (1.7)\n",
            "Requirement already satisfied: decorator in /usr/local/lib/python3.11/dist-packages (from ipyparallel>=8.0.0->EXOSIMS>=3.6.4->corgietc==1.2.0) (4.4.2)\n",
            "Requirement already satisfied: entrypoints in /usr/local/lib/python3.11/dist-packages (from ipyparallel>=8.0.0->EXOSIMS>=3.6.4->corgietc==1.2.0) (0.4)\n",
            "Requirement already satisfied: ipykernel>=4.4 in /usr/local/lib/python3.11/dist-packages (from ipyparallel>=8.0.0->EXOSIMS>=3.6.4->corgietc==1.2.0) (6.17.1)\n",
            "Requirement already satisfied: ipython>=4 in /usr/local/lib/python3.11/dist-packages (from ipyparallel>=8.0.0->EXOSIMS>=3.6.4->corgietc==1.2.0) (7.34.0)\n",
            "Requirement already satisfied: jupyter-client>=5 in /usr/local/lib/python3.11/dist-packages (from ipyparallel>=8.0.0->EXOSIMS>=3.6.4->corgietc==1.2.0) (6.1.12)\n",
            "Requirement already satisfied: psutil in /usr/local/lib/python3.11/dist-packages (from ipyparallel>=8.0.0->EXOSIMS>=3.6.4->corgietc==1.2.0) (5.9.5)\n",
            "Requirement already satisfied: python-dateutil>=2.1 in /usr/local/lib/python3.11/dist-packages (from ipyparallel>=8.0.0->EXOSIMS>=3.6.4->corgietc==1.2.0) (2.9.0.post0)\n",
            "Requirement already satisfied: pyzmq>=18 in /usr/local/lib/python3.11/dist-packages (from ipyparallel>=8.0.0->EXOSIMS>=3.6.4->corgietc==1.2.0) (26.2.1)\n",
            "Requirement already satisfied: tornado>=5.1 in /usr/local/lib/python3.11/dist-packages (from ipyparallel>=8.0.0->EXOSIMS>=3.6.4->corgietc==1.2.0) (6.4.2)\n",
            "Requirement already satisfied: traitlets>=4.3 in /usr/local/lib/python3.11/dist-packages (from ipyparallel>=8.0.0->EXOSIMS>=3.6.4->corgietc==1.2.0) (5.7.1)\n",
            "Requirement already satisfied: cython in /usr/local/lib/python3.11/dist-packages (from keplertools>=1.2.1->EXOSIMS>=3.6.4->corgietc==1.2.0) (3.0.12)\n",
            "Requirement already satisfied: absl-py>=2.0.0 in /usr/local/lib/python3.11/dist-packages (from ortools>=9.0->EXOSIMS>=3.6.4->corgietc==1.2.0) (2.3.1)\n",
            "Requirement already satisfied: protobuf<6.32,>=6.31.1 in /usr/local/lib/python3.11/dist-packages (from ortools>=9.0->EXOSIMS>=3.6.4->corgietc==1.2.0) (6.31.1)\n",
            "Requirement already satisfied: typing-extensions>=4.12 in /usr/local/lib/python3.11/dist-packages (from ortools>=9.0->EXOSIMS>=3.6.4->corgietc==1.2.0) (4.14.1)\n",
            "Requirement already satisfied: immutabledict>=3.0.0 in /usr/local/lib/python3.11/dist-packages (from ortools>=9.0->EXOSIMS>=3.6.4->corgietc==1.2.0) (4.2.1)\n",
            "Requirement already satisfied: pytz>=2020.1 in /usr/local/lib/python3.11/dist-packages (from pandas->cgi_noise>=1.2.0->corgietc==1.2.0) (2025.2)\n",
            "Requirement already satisfied: tzdata>=2022.7 in /usr/local/lib/python3.11/dist-packages (from pandas->cgi_noise>=1.2.0->corgietc==1.2.0) (2025.2)\n",
            "Requirement already satisfied: wcwidth in /usr/local/lib/python3.11/dist-packages (from prettytable->cgi_noise>=1.2.0->corgietc==1.2.0) (0.2.13)\n",
            "Requirement already satisfied: soupsieve>1.2 in /usr/local/lib/python3.11/dist-packages (from beautifulsoup4>=4.8->astroquery>=0.4.8->EXOSIMS>=3.6.4->corgietc==1.2.0) (2.7)\n",
            "Requirement already satisfied: six>=1.9 in /usr/local/lib/python3.11/dist-packages (from html5lib>=0.999->astroquery>=0.4.8->EXOSIMS>=3.6.4->corgietc==1.2.0) (1.17.0)\n",
            "Requirement already satisfied: webencodings in /usr/local/lib/python3.11/dist-packages (from html5lib>=0.999->astroquery>=0.4.8->EXOSIMS>=3.6.4->corgietc==1.2.0) (0.5.1)\n",
            "Requirement already satisfied: debugpy>=1.0 in /usr/local/lib/python3.11/dist-packages (from ipykernel>=4.4->ipyparallel>=8.0.0->EXOSIMS>=3.6.4->corgietc==1.2.0) (1.8.15)\n",
            "Requirement already satisfied: matplotlib-inline>=0.1 in /usr/local/lib/python3.11/dist-packages (from ipykernel>=4.4->ipyparallel>=8.0.0->EXOSIMS>=3.6.4->corgietc==1.2.0) (0.1.7)\n",
            "Requirement already satisfied: nest-asyncio in /usr/local/lib/python3.11/dist-packages (from ipykernel>=4.4->ipyparallel>=8.0.0->EXOSIMS>=3.6.4->corgietc==1.2.0) (1.6.0)\n",
            "Requirement already satisfied: setuptools>=18.5 in /usr/local/lib/python3.11/dist-packages (from ipython>=4->ipyparallel>=8.0.0->EXOSIMS>=3.6.4->corgietc==1.2.0) (75.2.0)\n",
            "Requirement already satisfied: jedi>=0.16 in /usr/local/lib/python3.11/dist-packages (from ipython>=4->ipyparallel>=8.0.0->EXOSIMS>=3.6.4->corgietc==1.2.0) (0.19.2)\n",
            "Requirement already satisfied: pickleshare in /usr/local/lib/python3.11/dist-packages (from ipython>=4->ipyparallel>=8.0.0->EXOSIMS>=3.6.4->corgietc==1.2.0) (0.7.5)\n",
            "Requirement already satisfied: prompt-toolkit!=3.0.0,!=3.0.1,<3.1.0,>=2.0.0 in /usr/local/lib/python3.11/dist-packages (from ipython>=4->ipyparallel>=8.0.0->EXOSIMS>=3.6.4->corgietc==1.2.0) (3.0.51)\n",
            "Requirement already satisfied: pygments in /usr/local/lib/python3.11/dist-packages (from ipython>=4->ipyparallel>=8.0.0->EXOSIMS>=3.6.4->corgietc==1.2.0) (2.19.2)\n",
            "Requirement already satisfied: backcall in /usr/local/lib/python3.11/dist-packages (from ipython>=4->ipyparallel>=8.0.0->EXOSIMS>=3.6.4->corgietc==1.2.0) (0.2.0)\n",
            "Requirement already satisfied: pexpect>4.3 in /usr/local/lib/python3.11/dist-packages (from ipython>=4->ipyparallel>=8.0.0->EXOSIMS>=3.6.4->corgietc==1.2.0) (4.9.0)\n",
            "Requirement already satisfied: jupyter-core>=4.6.0 in /usr/local/lib/python3.11/dist-packages (from jupyter-client>=5->ipyparallel>=8.0.0->EXOSIMS>=3.6.4->corgietc==1.2.0) (5.8.1)\n",
            "Requirement already satisfied: SecretStorage>=3.2 in /usr/local/lib/python3.11/dist-packages (from keyring>=15.0->astroquery>=0.4.8->EXOSIMS>=3.6.4->corgietc==1.2.0) (3.3.3)\n",
            "Requirement already satisfied: jeepney>=0.4.2 in /usr/local/lib/python3.11/dist-packages (from keyring>=15.0->astroquery>=0.4.8->EXOSIMS>=3.6.4->corgietc==1.2.0) (0.9.0)\n",
            "Requirement already satisfied: importlib_metadata>=4.11.4 in /usr/local/lib/python3.11/dist-packages (from keyring>=15.0->astroquery>=0.4.8->EXOSIMS>=3.6.4->corgietc==1.2.0) (8.7.0)\n",
            "Requirement already satisfied: jaraco.classes in /usr/local/lib/python3.11/dist-packages (from keyring>=15.0->astroquery>=0.4.8->EXOSIMS>=3.6.4->corgietc==1.2.0) (3.4.0)\n",
            "Requirement already satisfied: jaraco.functools in /usr/local/lib/python3.11/dist-packages (from keyring>=15.0->astroquery>=0.4.8->EXOSIMS>=3.6.4->corgietc==1.2.0) (4.2.1)\n",
            "Requirement already satisfied: jaraco.context in /usr/local/lib/python3.11/dist-packages (from keyring>=15.0->astroquery>=0.4.8->EXOSIMS>=3.6.4->corgietc==1.2.0) (6.0.1)\n",
            "Requirement already satisfied: charset-normalizer<4,>=2 in /usr/local/lib/python3.11/dist-packages (from requests>=2.19->astroquery>=0.4.8->EXOSIMS>=3.6.4->corgietc==1.2.0) (3.4.2)\n",
            "Requirement already satisfied: idna<4,>=2.5 in /usr/local/lib/python3.11/dist-packages (from requests>=2.19->astroquery>=0.4.8->EXOSIMS>=3.6.4->corgietc==1.2.0) (3.10)\n",
            "Requirement already satisfied: urllib3<3,>=1.21.1 in /usr/local/lib/python3.11/dist-packages (from requests>=2.19->astroquery>=0.4.8->EXOSIMS>=3.6.4->corgietc==1.2.0) (2.5.0)\n",
            "Requirement already satisfied: certifi>=2017.4.17 in /usr/local/lib/python3.11/dist-packages (from requests>=2.19->astroquery>=0.4.8->EXOSIMS>=3.6.4->corgietc==1.2.0) (2025.7.14)\n",
            "Requirement already satisfied: zipp>=3.20 in /usr/local/lib/python3.11/dist-packages (from importlib_metadata>=4.11.4->keyring>=15.0->astroquery>=0.4.8->EXOSIMS>=3.6.4->corgietc==1.2.0) (3.23.0)\n",
            "Requirement already satisfied: parso<0.9.0,>=0.8.4 in /usr/local/lib/python3.11/dist-packages (from jedi>=0.16->ipython>=4->ipyparallel>=8.0.0->EXOSIMS>=3.6.4->corgietc==1.2.0) (0.8.4)\n",
            "Requirement already satisfied: platformdirs>=2.5 in /usr/local/lib/python3.11/dist-packages (from jupyter-core>=4.6.0->jupyter-client>=5->ipyparallel>=8.0.0->EXOSIMS>=3.6.4->corgietc==1.2.0) (4.3.8)\n",
            "Requirement already satisfied: ptyprocess>=0.5 in /usr/local/lib/python3.11/dist-packages (from pexpect>4.3->ipython>=4->ipyparallel>=8.0.0->EXOSIMS>=3.6.4->corgietc==1.2.0) (0.7.0)\n",
            "Requirement already satisfied: cryptography>=2.0 in /usr/local/lib/python3.11/dist-packages (from SecretStorage>=3.2->keyring>=15.0->astroquery>=0.4.8->EXOSIMS>=3.6.4->corgietc==1.2.0) (43.0.3)\n",
            "Requirement already satisfied: more-itertools in /usr/local/lib/python3.11/dist-packages (from jaraco.classes->keyring>=15.0->astroquery>=0.4.8->EXOSIMS>=3.6.4->corgietc==1.2.0) (10.7.0)\n",
            "Requirement already satisfied: backports.tarfile in /usr/local/lib/python3.11/dist-packages (from jaraco.context->keyring>=15.0->astroquery>=0.4.8->EXOSIMS>=3.6.4->corgietc==1.2.0) (1.2.0)\n",
            "Requirement already satisfied: cffi>=1.12 in /usr/local/lib/python3.11/dist-packages (from cryptography>=2.0->SecretStorage>=3.2->keyring>=15.0->astroquery>=0.4.8->EXOSIMS>=3.6.4->corgietc==1.2.0) (1.17.1)\n",
            "Requirement already satisfied: pycparser in /usr/local/lib/python3.11/dist-packages (from cffi>=1.12->cryptography>=2.0->SecretStorage>=3.2->keyring>=15.0->astroquery>=0.4.8->EXOSIMS>=3.6.4->corgietc==1.2.0) (2.22)\n",
            "Building wheels for collected packages: corgietc\n",
            "  Building wheel for corgietc (pyproject.toml) ... \u001b[?25l\u001b[?25hdone\n",
            "  Created wheel for corgietc: filename=corgietc-1.2.0-py3-none-any.whl size=26572 sha256=6e0a3bbe3d60000621dcf7e6c46ab76b1c24d9175bacdbc7c4f55dbaba57100e\n",
            "  Stored in directory: /tmp/pip-ephem-wheel-cache-axplanxn/wheels/9c/1f/fe/c683edfd2589bf95cbc07859b50e62c82526291cd937598d35\n",
            "Successfully built corgietc\n",
            "Installing collected packages: corgietc\n",
            "  Attempting uninstall: corgietc\n",
            "    Found existing installation: corgietc 1.2.0\n",
            "    Uninstalling corgietc-1.2.0:\n",
            "      Successfully uninstalled corgietc-1.2.0\n",
            "Successfully installed corgietc-1.2.0\n"
          ]
        }
      ],
      "source": [
        "# This cell should *only* be executed if running the notebook in Google Colab\n",
        "import os\n",
        "\n",
        "# Google top level drive dir\n",
        "drive_dir = \"/content/drive/MyDrive/\"\n",
        "\n",
        "# directory path\n",
        "corgietc_dir = 'corgietc'\n",
        "corgietc_path = os.path.join(drive_dir, corgietc_dir)\n",
        "cgi_noise_repo_path = os.path.join(corgietc_path, \"cgi_noise\")\n",
        "corgietc_repo_path = os.path.join(corgietc_path, \"corgietc\")\n",
        "corgietc_notebooks_path = os.path.join(corgietc_repo_path, \"Notebooks\")\n",
        "\n",
        "# Change to the cgi_noise repo path and update the repo\n",
        "os.chdir(cgi_noise_repo_path)\n",
        "!git pull\n",
        "\n",
        "# Install the backend and all requirements - this can also take a little while\n",
        "!pip install .\n",
        "\n",
        "# Change to the corgietc repo path and update the repo\n",
        "os.chdir(corgietc_repo_path)\n",
        "!git pull\n",
        "\n",
        "# Install the backend and all requirements - this can also take a little while\n",
        "!pip install .\n",
        "\n",
        "# Refresh package list to pick up new installations\n",
        "import site\n",
        "site.main()\n",
        "\n",
        "# Change to the Notebooks directory\n",
        "os.chdir(corgietc_notebooks_path)"
      ]
    },
    {
      "cell_type": "markdown",
      "id": "dfd153ec-515f-4e34-ba00-eb655c0629e2",
      "metadata": {
        "id": "dfd153ec-515f-4e34-ba00-eb655c0629e2"
      },
      "source": [
        "### 🟠 Import jupyter widget for Colab"
      ]
    },
    {
      "cell_type": "code",
      "execution_count": 3,
      "id": "d50dd23b-18e0-4633-bd2d-1b40b1848f06",
      "metadata": {
        "id": "d50dd23b-18e0-4633-bd2d-1b40b1848f06"
      },
      "outputs": [],
      "source": [
        "# need to import third party jupyter widget\n",
        "from google.colab import output\n",
        "output.enable_custom_widget_manager()"
      ]
    },
    {
      "cell_type": "markdown",
      "id": "d4ba0ea9-e66f-468b-a19d-db1b69d078d5",
      "metadata": {
        "id": "d4ba0ea9-e66f-468b-a19d-db1b69d078d5"
      },
      "source": [
        "## All Cells from this point should be run for both Colab and local installations"
      ]
    },
    {
      "cell_type": "code",
      "execution_count": 4,
      "id": "59f5c9d5-5369-4785-9a42-f3aa28585900",
      "metadata": {
        "id": "59f5c9d5-5369-4785-9a42-f3aa28585900"
      },
      "outputs": [],
      "source": [
        "# import all required packages\n",
        "import corgietc\n",
        "import os\n",
        "import json\n",
        "import EXOSIMS.Prototypes.TargetList\n",
        "import EXOSIMS.Prototypes.TimeKeeping\n",
        "import copy\n",
        "import astropy.units as u\n",
        "import numpy as np\n",
        "import matplotlib.pyplot as plt"
      ]
    },
    {
      "cell_type": "markdown",
      "id": "d417fec1-a74a-4cc0-b971-50b320166e22",
      "metadata": {
        "id": "d417fec1-a74a-4cc0-b971-50b320166e22"
      },
      "source": [
        "## Introduction\n",
        "\n",
        "The Roman Coronagraph Exposure Time Calculator (ETC; ``corgietc``) is implemented by integrating two Python packages: ``cgi_noise`` and ``EXOSIMS``.  ``cgi_noise`` provides detailed modeling of the Roman Coronagraph and the definitions of the Roman Coronagraph observing modes (scenarios), along with basic models for astrophysical inputs.  ``EXOSIMS`` is a mission modeling framework, and provides its own ETCs, along with detailed astrophysical models and other useful utilities.  ``corgietc`` links these two packages together by implementing an ``EXOSIMS`` ``OpticalSystem`` implementation that calls ``cgi_noise`` for various calculations. This allows us to use the ``cgi_noise`` instrument model with the various inputs that can be computed by ``EXOSIMS``."
      ]
    },
    {
      "cell_type": "markdown",
      "id": "34f6f88f-8f78-47d8-b0d3-1695c0561ed8",
      "metadata": {
        "id": "34f6f88f-8f78-47d8-b0d3-1695c0561ed8"
      },
      "source": [
        "## Required Inputs for Computing Integration Time\n",
        "\n",
        "Point-source integration time calculations are provided by the `calc_intTime` method of an `EXOSIMS` `OpticalSystem` module (such as ``corgietc``).  This method takes 7 required inputs and one optional one:\n",
        "\n",
        "1. An `EXOSIMS` `TargetList` object: this includes all information about the targets (stars) that you might want to observe, along with utilities for computing stellar photometry.  Details on the `TargetList` class are available here: https://exosims.readthedocs.io/en/latest/targetlist.html and details on the stellar photometric modeling are available here: https://exosims.readthedocs.io/en/latest/concepts.html#photometry\n",
        "2. The specific subset of targets you wish to compute integration times for (`sInds`).  `TargetList` stores all stellar information in equally-sized arrays, so this input is an array (or list, or other iterable) of which target indices you wish to select.  If your `TargetList` only contains one target, this input would be 0.\n",
        "3. The surface brightness of local zodiacal light to assume for the calculation (`fZ`).  This must be an `astropy` `Quantity` object (https://docs.astropy.org/en/stable/units/index.html) whose contents are an array of either size 1 (in which case the same value is used for all calculations) or of an equal size to the `sInds` input. The units must be consistent with arcsec$^{-2}$. For details on the local zodiacal light model, see: https://exosims.readthedocs.io/en/latest/concepts.html#zodiacal-light\n",
        "4. The intensity of the exo-zodiacal light to assume for the calculation (`JEZ`).  This must be structured in the same way as the `fZ` input, but with units consistent with photons s$^{-1}$ m$^{-2}$ arcsec$^{-2}$. For details on the exo-zodiacal light model, see: https://exosims.readthedocs.io/en/latest/concepts.html#exozodiacal-light\n",
        "5. The desired $\\Delta$magnitude between planet and star you wish to reach (`dMag`).  This must be an iterable of either size 1 (same for all calculations) or of equal size to `sInds`. This value sets the integration depth you wish to achieve.\n",
        "6. The angular separation at which to perform calculations.  Because coronagraph performance varies as a function of angular separation, we must specify where in the throughput/contrast/etc. curves we wish to take our coronagraph performance values from.  That location is specified by this input, which must be an `astropy` `Quantity` array (with the same dimensionality assumptions as the other inputs) with units compatible with arcseconds. For more information on the parametrization of coronagraph performance, see here: https://exosims.readthedocs.io/en/latest/opticalsystem.html#standardized-coronagraph-parameters. Note that for the Roman coronagraph, we do **not** parametrize by stellar angular diameter - the assumption is that all of our target stars are fully unresolved.\n",
        "7. The observing mode/scenario (`mode`).  An observing mode is the combination of a specific coronagraph with a specific detector in a specific bandpass.  It also defines the target signal-to-noise ratio (SNR) that you wish to achieve for your observation.  More details here: https://exosims.readthedocs.io/en/latest/opticalsystem.html#optical-system-definition\n",
        "8. (Optional) An `EXOSIMS` `TimeKeeping` object.  As the name implies, a `TimeKeeping` object tracks elapsed mission time (amongst other time-associated utilities.  Time-on-orbit is an input into the integration time because we have a degradation model for our detector, which attempts to predict performance changes due to radiation exposure over the length of the mission.  If omitted, ``corgietc`` automatically assumes 21 months at L2. Note that the degradation model implemented by ``cgi_noise`` is only valid out to 63 months - past that, we cannot really trust the results."
      ]
    },
    {
      "cell_type": "markdown",
      "id": "e942bd72-0a7a-42c3-869c-2954fc0f5e0f",
      "metadata": {
        "id": "e942bd72-0a7a-42c3-869c-2954fc0f5e0f"
      },
      "source": [
        "## Constructing EXOSIMS Objects\n",
        "\n",
        "All ``EXOSIMS`` objects are constructed via an input specification - a dictionary of key/value pairs, that can be read from a JSON-formatted file stored on disk.  Passing such an input specification to a `TargetList` automatically creates the `TargetList`, along with all other ``EXOSIMS`` modules required by the ``TargetList``, which includes the `OpticalSystem` and `ZodiacalLight` modules (the ones we need for doing our calculations).  More info on `EXOSIMS` objects is available here: https://exosims.readthedocs.io/en/latest/intro.html#framework\n",
        "\n",
        "`corgietc` provides a default input specification, which we will now load:"
      ]
    },
    {
      "cell_type": "code",
      "execution_count": 5,
      "id": "cee41814-ab3c-4bc8-b997-5f4c3b9aaf96",
      "metadata": {
        "id": "cee41814-ab3c-4bc8-b997-5f4c3b9aaf96"
      },
      "outputs": [],
      "source": [
        "# This loads the default input specification\n",
        "scriptfile = os.path.join(os.environ[\"CORGIETC_DATA_DIR\"], \"scripts\", \"CGI_Noise.json\")\n",
        "with open(scriptfile, \"r\") as f:\n",
        "    specs = json.loads(f.read())"
      ]
    },
    {
      "cell_type": "markdown",
      "id": "2dd95f82-5361-41fb-864d-9a582ae2b8df",
      "metadata": {
        "id": "2dd95f82-5361-41fb-864d-9a582ae2b8df"
      },
      "source": [
        "The component of the input specification that tells `EXOSIMS` what types of objects to build is called `modules`:"
      ]
    },
    {
      "cell_type": "code",
      "execution_count": 6,
      "id": "e0130c7f-c6f4-4aa6-8797-c4a234704c14",
      "metadata": {
        "colab": {
          "base_uri": "https://localhost:8080/"
        },
        "id": "e0130c7f-c6f4-4aa6-8797-c4a234704c14",
        "outputId": "206890c4-fad3-4296-ecdc-acafa2af60fb"
      },
      "outputs": [
        {
          "output_type": "execute_result",
          "data": {
            "text/plain": [
              "{'PlanetPopulation': ' ',\n",
              " 'StarCatalog': ' ',\n",
              " 'OpticalSystem': '$CORGIETC_DATA_DIR/../corgietc.py',\n",
              " 'ZodiacalLight': 'Stark',\n",
              " 'BackgroundSources': 'GalaxiesFaintStars',\n",
              " 'PlanetPhysicalModel': 'ForecasterMod',\n",
              " 'Observatory': ' ',\n",
              " 'TimeKeeping': ' ',\n",
              " 'PostProcessing': ' ',\n",
              " 'Completeness': ' ',\n",
              " 'TargetList': ' ',\n",
              " 'SimulatedUniverse': ' ',\n",
              " 'SurveySimulation': ' ',\n",
              " 'SurveyEnsemble': ' '}"
            ]
          },
          "metadata": {},
          "execution_count": 6
        }
      ],
      "source": [
        "specs[\"modules\"]"
      ]
    },
    {
      "cell_type": "markdown",
      "id": "c4bf249f-716a-4b1e-98ff-1ec2319a6f61",
      "metadata": {
        "id": "c4bf249f-716a-4b1e-98ff-1ec2319a6f61"
      },
      "source": [
        "All entries that are blank spaces indicate that the prototype (default) object type should be built.  As you can see, the template input specification sets the `OpticalSystem` to `corgietc`.  By leaving the `StarCatalog` module blank, we are generating a fake catalog of stars (in fact, just one star). Let's instantiate the `TargetList` and take a look."
      ]
    },
    {
      "cell_type": "code",
      "execution_count": 7,
      "id": "979328ee-407d-4e89-8a19-8217b229aec3",
      "metadata": {
        "colab": {
          "base_uri": "https://localhost:8080/"
        },
        "id": "979328ee-407d-4e89-8a19-8217b229aec3",
        "outputId": "fada2f1c-19eb-4258-a165-6cbe59f10c22"
      },
      "outputs": [
        {
          "output_type": "stream",
          "name": "stderr",
          "text": [
            "/usr/local/lib/python3.11/dist-packages/EXOSIMS/Prototypes/TargetList.py:381: UserWarning: binary_filter is None but filterBinaries is False. Using binary_filter value of None.\n",
            "  warnings.warn(\n"
          ]
        },
        {
          "output_type": "stream",
          "name": "stdout",
          "text": [
            "Imported StarCatalog (prototype) from EXOSIMS.Prototypes.StarCatalog\n",
            "Imported corgietc (named file) from /content/drive/[...]ietc/corgietc/corgietc.py\n",
            "Imported Stark (implementation) from EXOSIMS.ZodiacalLight.Stark\n",
            "Imported PostProcessing (prototype) from EXOSIMS.Prototypes.PostProcessing\n",
            "Imported GalaxiesFaintStars (implementation) from EXOSIMS.BackgroundSources.GalaxiesFaintStars\n",
            "Imported Completeness (prototype) from EXOSIMS.Prototypes.Completeness\n",
            "Imported PlanetPopulation (prototype) from EXOSIMS.Prototypes.PlanetPopulation\n",
            "Imported ForecasterMod (implementation) from EXOSIMS.PlanetPhysicalModel.ForecasterMod\n",
            "1 targets imported from star catalog.\n",
            "1 targets remain after removing those where spectral class cannot be established.\n",
            "1 targets remain after removing white dwarfs and subdwarfs\n",
            "1 targets remain after nan filtering.\n",
            "1 targets remain after removing zero luminosity targets.\n",
            "Loaded JEZ0 for mode 6534987b1b37fa7a5002481940edacde from /root/.EXOSIMS/cache/v3.6.5/TargetList_StarCatalog_3a93f39cdb9423860f2d81a6c0c25bb5nStars_1_mode_6534987b1b37fa7a5002481940edacde.JEZ0\n",
            "Loaded JEZ0 for mode 5d266420f1681119b4ae5b5047d033bf from /root/.EXOSIMS/cache/v3.6.5/TargetList_StarCatalog_3a93f39cdb9423860f2d81a6c0c25bb5nStars_1_mode_5d266420f1681119b4ae5b5047d033bf.JEZ0\n",
            "Loaded JEZ0 for mode 40bffc31e5498f3c36bbd7daeea62dc3 from /root/.EXOSIMS/cache/v3.6.5/TargetList_StarCatalog_3a93f39cdb9423860f2d81a6c0c25bb5nStars_1_mode_40bffc31e5498f3c36bbd7daeea62dc3.JEZ0\n",
            "Loaded JEZ0 for mode 7ed91f9ce32dc7e27fc1926e8b2043b7 from /root/.EXOSIMS/cache/v3.6.5/TargetList_StarCatalog_3a93f39cdb9423860f2d81a6c0c25bb5nStars_1_mode_7ed91f9ce32dc7e27fc1926e8b2043b7.JEZ0\n",
            "Loaded JEZ0 for mode 5f7686eba6f400fea9042994c9acbccc from /root/.EXOSIMS/cache/v3.6.5/TargetList_StarCatalog_3a93f39cdb9423860f2d81a6c0c25bb5nStars_1_mode_5f7686eba6f400fea9042994c9acbccc.JEZ0\n",
            "Loaded JEZ0 for mode cd32570f6c9c11485cf89ea538b39edc from /root/.EXOSIMS/cache/v3.6.5/TargetList_StarCatalog_3a93f39cdb9423860f2d81a6c0c25bb5nStars_1_mode_cd32570f6c9c11485cf89ea538b39edc.JEZ0\n",
            "Loaded star fluxes values from /root/.EXOSIMS/cache/v3.6.5/TargetList_StarCatalog_3a93f39cdb9423860f2d81a6c0c25bb5_nStars_1_mode_6534987b1b37fa7a5002481940edacde.star_fluxes\n",
            "Loaded intCutoff_dMag values from /root/.EXOSIMS/cache/v3.6.5/TargetList_StarCatalog_3a93f39cdb9423860f2d81a6c0c25bb5_corgietc_Stark_vals_2557c3c7f76ba09bd5928749e41d81ab_mode_6534987b1b37fa7a5002481940edacde.intCutoff_dMag\n",
            "Loaded intCutoff_comp values from /root/.EXOSIMS/cache/v3.6.5/TargetList_StarCatalog_3a93f39cdb9423860f2d81a6c0c25bb5_Completeness_vals_54cb8df3d888de4d452a5fa9f191d4f9.intCutoff_comp\n"
          ]
        }
      ],
      "source": [
        "# Build the targetlist object\n",
        "TL = EXOSIMS.Prototypes.TargetList.TargetList(**copy.deepcopy(specs))\n",
        "OS = TL.OpticalSystem"
      ]
    },
    {
      "cell_type": "markdown",
      "id": "f3ab4031-cba0-4a72-afcb-fe3582c71b92",
      "metadata": {
        "id": "f3ab4031-cba0-4a72-afcb-fe3582c71b92"
      },
      "source": [
        "Notice that we used a copy of the input specification rather than directly sending it to the `TargetList`.  You can actually do either, but `EXOSIMS` objects will modify the input specification as they pass it around, so if you want to retain the original, you have to use a copy.\n",
        "\n",
        "We can inspect the single fake target we created:"
      ]
    },
    {
      "cell_type": "code",
      "source": [
        "print(TL.Name)\n",
        "print(TL.coords)\n",
        "print(TL.Vmag)"
      ],
      "metadata": {
        "colab": {
          "base_uri": "https://localhost:8080/"
        },
        "id": "pcp5aYHjaJhO",
        "outputId": "8344d659-5c82-4bfb-aac8-08258a0d32c2"
      },
      "id": "pcp5aYHjaJhO",
      "execution_count": 8,
      "outputs": [
        {
          "output_type": "stream",
          "name": "stdout",
          "text": [
            "['Prototype Star 0']\n",
            "<SkyCoord (ICRS): (ra, dec, distance) in (deg, deg, pc)\n",
            "    [(0., 0., 10.)]>\n",
            "[5.]\n"
          ]
        }
      ]
    },
    {
      "cell_type": "code",
      "source": [
        "TL.Name = ['HD100453A']\n",
        "# TL.coords = SkyCoord(ra=173.273236*u.deg, dec=-54.324596*u.deg, 103.8 *u.pc)\n",
        "TL.coords = [173.27323, -54.324596, 103.8]\n",
        "TL.Vmag = [7.79]\n",
        "# let's check on the target\n",
        "print(f\"Name: {TL.Name}\")\n",
        "print(f\"is located at {TL.coords}\")\n",
        "print(f\"and has a V band magnitude of {TL.Vmag}\")"
      ],
      "metadata": {
        "id": "y3tWwmPluwnL"
      },
      "id": "y3tWwmPluwnL",
      "execution_count": null,
      "outputs": []
    },
    {
      "cell_type": "code",
      "source": [
        "name = [['eps Eri'], ['zet Lep'], ['beta Uma'], ['bet Leo'], ['del Uma'], ['eta Crv'], ['theta Boo'], ['110 Her']]\n",
        "coords_all = [[53.232685, -9.458261, 3.2], [86.738922, -14.821950,22.32], [165.460332, 56.382434,24.4], [177.264910, 14.572058, 11], [183.856499, 57.032617, 24.7], [188.017610, -16.196005, 18.3], [216.299154, 51.850744, 14.5], [281.415524, 20.546309, 19.2]]\n",
        "V_all = [[3.721], [3.525], [2.341], [2.121], [3.295], [4.302], [4.04], [4.202]]\n",
        "\n"
      ],
      "metadata": {
        "id": "--DXYTgNZB_j"
      },
      "id": "--DXYTgNZB_j",
      "execution_count": 9,
      "outputs": []
    },
    {
      "cell_type": "code",
      "source": [
        "index = 0\n",
        "\n",
        "TL.Name = name[index]\n",
        "TL.coords = coords_all[index]\n",
        "TL.Vmag = V_all[index]\n",
        "# let's check on the target\n",
        "print(f\"Name: {TL.Name}\")\n",
        "print(f\"is located at {TL.coords}\")\n",
        "print(f\"and has a V band magnitude of {TL.Vmag}\")"
      ],
      "metadata": {
        "colab": {
          "base_uri": "https://localhost:8080/"
        },
        "id": "2hJKFFNQutRX",
        "outputId": "b6275ac9-028f-44ec-a98f-b12c725ceb11"
      },
      "id": "2hJKFFNQutRX",
      "execution_count": 10,
      "outputs": [
        {
          "output_type": "stream",
          "name": "stdout",
          "text": [
            "Name: ['eps Eri']\n",
            "is located at [53.232685, -9.458261, 3.2]\n",
            "and has a V band magnitude of [3.721]\n"
          ]
        }
      ]
    },
    {
      "cell_type": "code",
      "source": [],
      "metadata": {
        "id": "f8slvJhnsV0d"
      },
      "id": "f8slvJhnsV0d",
      "execution_count": null,
      "outputs": []
    },
    {
      "cell_type": "code",
      "execution_count": 11,
      "id": "55216701-f178-4da2-a218-593bd4747b8f",
      "metadata": {
        "colab": {
          "base_uri": "https://localhost:8080/"
        },
        "id": "55216701-f178-4da2-a218-593bd4747b8f",
        "outputId": "f6e32e3d-ac24-4efd-9765-90917434acc9"
      },
      "outputs": [
        {
          "output_type": "stream",
          "name": "stdout",
          "text": [
            "Name: ['eps Eri']\n",
            "is located at [53.232685, -9.458261, 3.2]\n",
            "and has a V band magnitude of [3.721]\n"
          ]
        }
      ],
      "source": [
        "# let's check on the target\n",
        "print(f\"Name: {TL.Name}\")\n",
        "print(f\"is located at {TL.coords}\")\n",
        "print(f\"and has a V band magnitude of {TL.Vmag}\")"
      ]
    },
    {
      "cell_type": "markdown",
      "id": "3e1825fb-ddf0-4f10-8b68-37db9f853c4e",
      "metadata": {
        "id": "3e1825fb-ddf0-4f10-8b68-37db9f853c4e"
      },
      "source": [
        "The template specifications have created a 5th magnitude star (in V band) located 10 parsecs away.\n",
        "\n",
        "While we're here, we'll also create the optional `TimeKeeping` object, and set the current mission time to 21 months (matching the default):"
      ]
    },
    {
      "cell_type": "code",
      "execution_count": 65,
      "id": "1cbc0750-dd52-4ca0-951e-c8e0dea1fc49",
      "metadata": {
        "colab": {
          "base_uri": "https://localhost:8080/"
        },
        "id": "1cbc0750-dd52-4ca0-951e-c8e0dea1fc49",
        "outputId": "360ebe68-bbca-4fe2-a5ea-0991c8f08a66"
      },
      "outputs": [
        {
          "output_type": "stream",
          "name": "stdout",
          "text": [
            "OBendTimes is: [1917.5625] d\n"
          ]
        }
      ],
      "source": [
        "# create a Timekeeping object and advance the mission time a bit\n",
        "TK = EXOSIMS.Prototypes.TimeKeeping.TimeKeeping(missionLife = 5.25)   # 63 months in years is 5.25, 21 months is 1.75\n",
        "TK.allocate_time(21*30.4375*u.d);"
      ]
    },
    {
      "cell_type": "markdown",
      "id": "544b38da-ce6a-4a21-a435-0942e4cf9fc9",
      "metadata": {
        "id": "544b38da-ce6a-4a21-a435-0942e4cf9fc9"
      },
      "source": [
        "## Generating Integration Time Calculation Inputs\n",
        "\n",
        "We will now generate input values for each of the `calc_intTime` inputs.  \n",
        "\n",
        "### 1. `TargetList`\n",
        "We already have our `TargetList` object, so this is done.\n",
        "\n",
        "### 2. `sInds`\n",
        "The target listincludes only one target, so:"
      ]
    },
    {
      "cell_type": "code",
      "execution_count": 13,
      "id": "56a4ba0c-de79-48ea-8e85-019c45e128aa",
      "metadata": {
        "id": "56a4ba0c-de79-48ea-8e85-019c45e128aa"
      },
      "outputs": [],
      "source": [
        "sInds = 0"
      ]
    },
    {
      "cell_type": "markdown",
      "id": "3751dfc6-0227-4190-97ca-b3d91a837d3a",
      "metadata": {
        "id": "3751dfc6-0227-4190-97ca-b3d91a837d3a"
      },
      "source": [
        "### 3. `fZ`\n",
        "For the local zodiacal light, the `TargetList` provides an attribute with a default value (equivalent to a local zodi brightness of 23 mag arcsec$^{-2}$:"
      ]
    },
    {
      "cell_type": "code",
      "execution_count": 63,
      "id": "6ecc3fa7-f889-47d5-993b-e650ded0c79c",
      "metadata": {
        "colab": {
          "base_uri": "https://localhost:8080/",
          "height": 38
        },
        "id": "6ecc3fa7-f889-47d5-993b-e650ded0c79c",
        "outputId": "212eb32c-6f4d-4e35-d684-4e6101b353f1"
      },
      "outputs": [
        {
          "output_type": "execute_result",
          "data": {
            "text/plain": [
              "<Quantity [6.30957344e-10] 1 / arcsec2>"
            ],
            "text/latex": "$[6.3095734 \\times 10^{-10}] \\; \\mathrm{\\frac{1}{arcsec^{2}}}$"
          },
          "metadata": {},
          "execution_count": 63
        }
      ],
      "source": [
        "fZ = np.repeat(TL.ZodiacalLight.fZ0, 1)\n",
        "fZ"
      ]
    },
    {
      "cell_type": "markdown",
      "id": "48f99288-f06f-40f5-8c98-b2d9d2376687",
      "metadata": {
        "id": "48f99288-f06f-40f5-8c98-b2d9d2376687"
      },
      "source": [
        "Note the use of the `numpy` `repeat` method to make this an iterable (as required).\n",
        "\n",
        "### 7. `mode`\n",
        "\n",
        "We're going to go a bit out of order and specify our observing mode next, as it is required for some of the other things we need to compute. All observing modes are stored in `OpticalSystem` attribute `observingModes`.  For `corgietc`, all modes have a `Scenario` keyword, and we can print these out:"
      ]
    },
    {
      "cell_type": "code",
      "execution_count": 51,
      "id": "d4f59b69-c9c1-43ca-9610-963e4f0cc62b",
      "metadata": {
        "colab": {
          "base_uri": "https://localhost:8080/"
        },
        "id": "d4f59b69-c9c1-43ca-9610-963e4f0cc62b",
        "outputId": "e7987436-dd5c-46aa-e93a-d0718a3077c6"
      },
      "outputs": [
        {
          "output_type": "stream",
          "name": "stdout",
          "text": [
            "OPT_IMG_NFB1_HLC\n",
            "CON_IMG_NFB1_HLC\n",
            "OPT_IMG_WFB4_SPC\n",
            "CON_IMG_WFB4_SPC\n",
            "OPT_SPEC_NFB3_SPC\n",
            "CON_SPEC_NFB3_SPC\n"
          ]
        }
      ],
      "source": [
        "for mode in OS.observingModes:\n",
        "    print(mode[\"Scenario\"])"
      ]
    },
    {
      "cell_type": "markdown",
      "id": "f80e456a-76ba-4309-a65a-f27582255b62",
      "metadata": {
        "id": "f80e456a-76ba-4309-a65a-f27582255b62"
      },
      "source": [
        "We will pick the first mode from the list - optimistic HLC with imaging in Band 1:"
      ]
    },
    {
      "cell_type": "code",
      "execution_count": null,
      "id": "41ea627b-8a9b-4636-a160-2557d907da25",
      "metadata": {
        "id": "41ea627b-8a9b-4636-a160-2557d907da25"
      },
      "outputs": [],
      "source": [
        "# mode = OS.observingModes[4]\n",
        "# mode[\"Scenario\"] = 'CON_SPEC_NFB3_SPC'\n",
        "# print(mode[\"Scenario\"])\n",
        "# mode[\"Scenario\"] = 'OPT_SPEC_NFB3_SPC'\n",
        "# print(mode[\"Scenario\"])\n"
      ]
    },
    {
      "cell_type": "markdown",
      "id": "5edb0a88-ca68-44b2-8ef8-43b16264f6c9",
      "metadata": {
        "id": "5edb0a88-ca68-44b2-8ef8-43b16264f6c9"
      },
      "source": [
        "### 4. `JEZ`\n",
        "Similarly, the `TargetList` pre-computes the exozodi of all targets for all observing modes at 1 AU separation.  We can then scale these to the actual planet location desired.  In this case, let's assume a planet at 4.1536 AU (to match a default used for testing in ``cgi_noise``):"
      ]
    },
    {
      "cell_type": "code",
      "execution_count": 64,
      "id": "2eec4341-e5f7-4c1b-9edb-37d05a61fe7d",
      "metadata": {
        "colab": {
          "base_uri": "https://localhost:8080/",
          "height": 39
        },
        "id": "2eec4341-e5f7-4c1b-9edb-37d05a61fe7d",
        "outputId": "6627593c-7c47-4304-e0cd-8f958bac3b7e"
      },
      "outputs": [
        {
          "output_type": "execute_result",
          "data": {
            "text/plain": [
              "<Quantity [0.5986508] ph / (s arcsec2 m2)>"
            ],
            "text/latex": "$[0.5986508] \\; \\mathrm{\\frac{ph}{s\\,arcsec^{2}\\,m^{2}}}$"
          },
          "metadata": {},
          "execution_count": 64
        }
      ],
      "source": [
        "JEZ = TL.JEZ0[mode[\"hex\"]]/(4.1536**2)\n",
        "JEZ"
      ]
    },
    {
      "cell_type": "markdown",
      "id": "bb572d2b-689d-4dae-a994-d8619c9363e2",
      "metadata": {
        "id": "bb572d2b-689d-4dae-a994-d8619c9363e2"
      },
      "source": [
        "There was a lot going on in that last call - basically, `TL.JEZ0` is a dictionary of values linked to each mode, indexed by a unique string describing that mode, that is stored in the mode's dictionary under key `hex`.  So, we pulled the value associated with the our selected observing mode, and then scaled it by the distance to the planet (in AU) squared. One important caveat, the exozodi is scaled not only by the planet's location, but by the assumed inclination of the exo-zodiacal disk (i.e., the exosystem's inclination).  By our default input specification, we have assumed that the system is edge-on, which is the worst-case for the exozodi contribution.\n",
        "\n",
        "### 5. `dMag`\n",
        "We will just set this to an arbitrary value for now (again selected to match ``cgi_noise`` test defaults."
      ]
    },
    {
      "cell_type": "code",
      "execution_count": 17,
      "id": "80b4e0b0-8a78-4336-b0bd-551e7abb082f",
      "metadata": {
        "id": "80b4e0b0-8a78-4336-b0bd-551e7abb082f",
        "colab": {
          "base_uri": "https://localhost:8080/"
        },
        "outputId": "b1371118-8d9c-4dbd-da24-6c6b840aed05"
      },
      "outputs": [
        {
          "output_type": "stream",
          "name": "stdout",
          "text": [
            "[12]\n"
          ]
        }
      ],
      "source": [
        "dMag = np.array([12])\n",
        "print(dMag)"
      ]
    },
    {
      "cell_type": "markdown",
      "id": "21328505-c5f3-44b3-8f0d-b6debf0ec345",
      "metadata": {
        "id": "21328505-c5f3-44b3-8f0d-b6debf0ec345"
      },
      "source": [
        "### 6. `WA`\n",
        "\n",
        "We wish to use 7.5 $\\lambda/D$ as the coronagraph operating point (again matching ``cgi_noise`` test defaults). The input needs to have physical angle values, so we will scale it by the mode's wavelength and the Roman primary diameter:"
      ]
    },
    {
      "cell_type": "code",
      "execution_count": 18,
      "id": "27f2e3a2-0c95-4cc1-a92a-6c737609d1f9",
      "metadata": {
        "colab": {
          "base_uri": "https://localhost:8080/",
          "height": 37
        },
        "id": "27f2e3a2-0c95-4cc1-a92a-6c737609d1f9",
        "outputId": "7fed212b-e6f1-4cdb-eb7c-bc1ee678a4f9"
      },
      "outputs": [
        {
          "output_type": "execute_result",
          "data": {
            "text/plain": [
              "<Quantity [0.20390799] arcsec>"
            ],
            "text/latex": "$[0.20390799]\\mathrm{{}^{\\prime\\prime}}$"
          },
          "metadata": {},
          "execution_count": 18
        }
      ],
      "source": [
        "WA = np.array([3.2]) * (mode[\"lam\"]/OS.pupilDiam).to(u.arcsec, equivalencies=u.dimensionless_angles())\n",
        "WA"
      ]
    },
    {
      "cell_type": "markdown",
      "id": "dc39ab7b-45b4-440a-8b8f-c43395030be4",
      "metadata": {
        "id": "dc39ab7b-45b4-440a-8b8f-c43395030be4"
      },
      "source": [
        "Note the use of the `astropy` equivalencies to make sure that we are properly treating $\\lambda/D$ as an angle."
      ]
    },
    {
      "cell_type": "markdown",
      "id": "748ff958-868a-4163-9b10-d4494758aa66",
      "metadata": {
        "id": "748ff958-868a-4163-9b10-d4494758aa66"
      },
      "source": [
        "## Running the integration time calculation\n",
        "\n",
        "We have all the inputs set up, so now it's just a matter of calling the method:"
      ]
    },
    {
      "cell_type": "code",
      "source": [
        "mode[\"SNR\"] = 20\n"
      ],
      "metadata": {
        "id": "WyX-bvHJgfDT"
      },
      "id": "WyX-bvHJgfDT",
      "execution_count": null,
      "outputs": []
    },
    {
      "cell_type": "code",
      "execution_count": 19,
      "id": "650b0ae3-5303-4a33-9d5b-db5e58e8ea3f",
      "metadata": {
        "colab": {
          "base_uri": "https://localhost:8080/",
          "height": 37
        },
        "id": "650b0ae3-5303-4a33-9d5b-db5e58e8ea3f",
        "outputId": "ad9bc667-9187-4882-c12b-646ab5411f75"
      },
      "outputs": [
        {
          "output_type": "execute_result",
          "data": {
            "text/plain": [
              "<Quantity [3.70600709] s>"
            ],
            "text/latex": "$[3.7060071] \\; \\mathrm{s}$"
          },
          "metadata": {},
          "execution_count": 19
        }
      ],
      "source": [
        "intTimes = OS.calc_intTime(TL, sInds, fZ, JEZ, dMag, WA, mode, TK=TK)\n",
        "intTimes.to(u.s)"
      ]
    },
    {
      "cell_type": "markdown",
      "id": "68d20d5e-a05b-4d2b-89bd-d00d52337802",
      "metadata": {
        "id": "68d20d5e-a05b-4d2b-89bd-d00d52337802"
      },
      "source": [
        "Finally, let's try this for a range of integration depths.  We will set up a range of $\\Delta$mag values (and then repeating the `sInd` such that we compute an intergration time for each one)."
      ]
    },
    {
      "cell_type": "code",
      "execution_count": null,
      "id": "86a815f5-e50c-4641-8ff7-b087c6ceb312",
      "metadata": {
        "id": "86a815f5-e50c-4641-8ff7-b087c6ceb312"
      },
      "outputs": [],
      "source": [
        "# now let's try a range of delta-mags\n",
        "dMags = np.linspace(10, 23, 100)\n",
        "intTimes = OS.calc_intTime(TL, [sInds]*len(dMags), fZ, JEZ, dMags, WA, mode, TK=TK).to(u.s)"
      ]
    },
    {
      "cell_type": "code",
      "source": [
        "print(mode[\"Scenario\"])"
      ],
      "metadata": {
        "colab": {
          "base_uri": "https://localhost:8080/"
        },
        "id": "GnRjQFxgbG9K",
        "outputId": "ddece482-f4ea-4f30-ad52-2751a65c0399"
      },
      "id": "GnRjQFxgbG9K",
      "execution_count": 50,
      "outputs": [
        {
          "output_type": "stream",
          "name": "stdout",
          "text": [
            "CON_IMG_WFB4_SPC\n"
          ]
        }
      ]
    },
    {
      "cell_type": "code",
      "execution_count": null,
      "id": "6939aac3-aef5-46dc-8b62-a93305d2a340",
      "metadata": {
        "id": "6939aac3-aef5-46dc-8b62-a93305d2a340"
      },
      "outputs": [],
      "source": [
        "plt.figure()\n",
        "plt.semilogy(dMags, intTimes.to(u.s))\n",
        "plt.xlabel(r\"Target $\\Delta$mag\")\n",
        "plt.ylabel(f\"Integration Time ({intTimes.to(u.s).unit})\")\n",
        "plt.title(fr\"Maximum Achievable $\\Delta$mag $\\approx$ {np.min(dMags[np.isnan(intTimes)]) :.2f}\");"
      ]
    },
    {
      "cell_type": "markdown",
      "id": "fb4175d5-4f6c-4837-a29e-dd257122669f",
      "metadata": {
        "id": "fb4175d5-4f6c-4837-a29e-dd257122669f"
      },
      "source": [
        "Note that plot does not seem to actually reach the maximum $\\Delta$mag value that we specified.  This is because that value is infeasible for this particular observation.  When this happens, `calc_intTime` returns a NaN value - for this particular observing scenario, target, and zodi levels, that occurs at a $\\Delta$mag of ~22.  \n",
        "\n",
        "Note that this was only an approximation, based on a line search over a discrete set of input $\\Delta$mag values.  However, we have a method for doing the exact calculation:"
      ]
    },
    {
      "cell_type": "code",
      "execution_count": 67,
      "id": "8d4a9049-4d5a-49dd-a8f8-cd9eaeb0393d",
      "metadata": {
        "colab": {
          "base_uri": "https://localhost:8080/"
        },
        "id": "8d4a9049-4d5a-49dd-a8f8-cd9eaeb0393d",
        "outputId": "b6d86468-e0a9-4a1c-e29a-31a0a48e5ce4"
      },
      "outputs": [
        {
          "output_type": "stream",
          "name": "stderr",
          "text": [
            "Calculating saturation_dMag: 100%|██████████| 1/1 [00:00<00:00, 269.19it/s]\n"
          ]
        },
        {
          "output_type": "execute_result",
          "data": {
            "text/plain": [
              "array([10.])"
            ]
          },
          "metadata": {},
          "execution_count": 67
        }
      ],
      "source": [
        "sat_dMag = OS.calc_saturation_dMag(TL, [sInds], fZ, JEZ, WA, mode, TK=TK)\n",
        "sat_dMag"
      ]
    },
    {
      "cell_type": "markdown",
      "id": "5e588350-71d7-465f-a0dc-9122bf7a6618",
      "metadata": {
        "id": "5e588350-71d7-465f-a0dc-9122bf7a6618"
      },
      "source": [
        "This corresponds to a flux ratio of:"
      ]
    },
    {
      "cell_type": "code",
      "execution_count": null,
      "id": "76738bd0-6365-4315-ad7f-3e3a22f199ee",
      "metadata": {
        "id": "76738bd0-6365-4315-ad7f-3e3a22f199ee"
      },
      "outputs": [],
      "source": [
        "10**(-0.4*sat_dMag)"
      ]
    },
    {
      "cell_type": "code",
      "source": [
        "for m in [mode]:\n",
        "    print(f'{m[\"Scenario\"]}: IWA={m[\"IWA\"]}, OWA={m[\"OWA\"]}')\n",
        "print(f\"Requested WA: {WA}\")"
      ],
      "metadata": {
        "colab": {
          "base_uri": "https://localhost:8080/"
        },
        "id": "mN9KO1m1eXRh",
        "outputId": "2b545040-69ea-480f-b742-86b4ed051e65"
      },
      "id": "mN9KO1m1eXRh",
      "execution_count": 20,
      "outputs": [
        {
          "output_type": "stream",
          "name": "stdout",
          "text": [
            "CON_SPEC_NFB3_SPC: IWA=0.1975358681917813 arcsec, OWA=0.5671191054538237 arcsec\n",
            "Requested WA: [0.20390799] arcsec\n"
          ]
        }
      ]
    },
    {
      "cell_type": "code",
      "source": [
        "index = 3\n",
        "TL.Name = name[index]\n",
        "TL.coords = coords_all[index]\n",
        "TL.Vmag = V_all[index]\n",
        "# TL.Vmag = [7.5]\n",
        "# let's check on the target\n",
        "print(f\"Name: {TL.Name}\")\n",
        "print(f\"is located at {TL.coords}\")\n",
        "print(f\"and has a V band magnitude of {TL.Vmag}\")\n",
        "\n",
        "d_wa = [ 3.9, 2.9, 6.9, 7.3, 1.6, 1.7, 3, 2.7]\n",
        "\n",
        "dMag_all = np.array([6.42701E-07, 2.17539E-06, 9.01306E-08, 6.20557E-08, 8.90457E-07, 1.62184E-05, 5.13107E-07, 9.98917E-07])\n",
        "dMag_all = -2.5*np.log10(dMag_all)\n",
        "print('dMag_disk_sample:', dMag_all[0])\n",
        "\n",
        "fZ = np.repeat(TL.ZodiacalLight.fZ0, 1)\n",
        "fZ\n",
        "\n",
        "JEZ = TL.JEZ0[mode[\"hex\"]]/(4.1536**2)\n",
        "JEZ\n",
        "\n",
        "\n"
      ],
      "metadata": {
        "colab": {
          "base_uri": "https://localhost:8080/",
          "height": 108
        },
        "id": "YsJuR1iRwH71",
        "outputId": "ab7c204c-ea16-494f-d16b-3b348a80dba7"
      },
      "id": "YsJuR1iRwH71",
      "execution_count": 82,
      "outputs": [
        {
          "output_type": "stream",
          "name": "stdout",
          "text": [
            "Name: ['bet Leo']\n",
            "is located at [177.26491, 14.572058, 11]\n",
            "and has a V band magnitude of [2.121]\n",
            "dMag_disk_sample: 15.47997756088938\n"
          ]
        },
        {
          "output_type": "execute_result",
          "data": {
            "text/plain": [
              "<Quantity [0.85791355] ph / (s arcsec2 m2)>"
            ],
            "text/latex": "$[0.85791355] \\; \\mathrm{\\frac{ph}{s\\,arcsec^{2}\\,m^{2}}}$"
          },
          "metadata": {},
          "execution_count": 82
        }
      ]
    },
    {
      "cell_type": "code",
      "source": [
        "mode = OS.observingModes[0]\n",
        "WA_NF = np.array([d_wa[index]]) * (mode[\"lam\"]/OS.pupilDiam).to(u.arcsec, equivalencies=u.dimensionless_angles())\n",
        "print(WA_NF)"
      ],
      "metadata": {
        "colab": {
          "base_uri": "https://localhost:8080/"
        },
        "id": "h7gAVUm85zur",
        "outputId": "7148e4db-37f9-4bd6-eabc-b87703dfbf54"
      },
      "id": "h7gAVUm85zur",
      "execution_count": 37,
      "outputs": [
        {
          "output_type": "stream",
          "name": "stdout",
          "text": [
            "[0.14555504] arcsec\n"
          ]
        }
      ]
    },
    {
      "cell_type": "code",
      "source": [
        "# for mode in OS.observingModes:\n",
        "#     print(mode[\"Scenario\"])\n",
        "\n",
        "\n",
        "mode[\"SNR\"] = 5\n",
        "print('SNR=', mode[\"SNR\"])\n",
        "mode1 = OS.observingModes[0]\n",
        "print('contrast:', round(dMag_all[index],3), 'mag')\n",
        "print('distance:', round( np.array([d_wa[index]]) * (mode1[\"lam\"]/OS.pupilDiam).to(u.arcsec, equivalencies=u.dimensionless_angles()),3))\n",
        "\n",
        "dMags = np.linspace(11, 23, 100)\n",
        "mode1 = OS.observingModes[0]\n",
        "print(mode1[\"Scenario\"])\n",
        "mode1[\"SNR\"] = 5\n",
        "print(mode1[\"SNR\"])\n",
        "WA_NF = np.array([d_wa[index]]) * (mode1[\"lam\"]/OS.pupilDiam).to(u.arcsec, equivalencies=u.dimensionless_angles())\n",
        "print(WA_NF)\n",
        "print(OS.calc_intTime(TL, sInds, fZ, JEZ, dMag_all[index], WA_NF, mode1, TK=TK).to(u.s))\n",
        "intTimes_NFB1_OPT =  OS.calc_intTime(TL, [sInds]*len(dMags), fZ, JEZ, dMags, WA_NF, mode1, TK=TK)\n",
        "\n",
        "mode2 = OS.observingModes[1]\n",
        "print(mode2[\"Scenario\"])\n",
        "mode2[\"SNR\"] = 5\n",
        "print(mode2[\"SNR\"])\n",
        "print(OS.calc_intTime(TL, sInds, fZ, JEZ, dMag_all[index], WA_NF, mode2, TK=TK).to(u.s))\n",
        "intTimes_NFB1_CON =  OS.calc_intTime(TL, [sInds]*len(dMags), fZ, JEZ, dMags, WA_NF, mode2, TK=TK)\n",
        "\n",
        "mode3 = OS.observingModes[2]\n",
        "print(mode3[\"Scenario\"])\n",
        "mode3[\"SNR\"] = 5\n",
        "print(mode3[\"SNR\"])\n",
        "WA_WF = np.array([7]) * (mode3[\"lam\"]/OS.pupilDiam).to(u.arcsec, equivalencies=u.dimensionless_angles())\n",
        "print(WA_WF)\n",
        "print(OS.calc_intTime(TL, sInds, fZ, JEZ, dMag_all[index], WA_WF, mode3, TK=TK).to(u.s))\n",
        "intTimes_WFB4_OPT =  OS.calc_intTime(TL, [sInds]*len(dMags), fZ, JEZ, dMags, WA_WF, mode3, TK=TK)\n",
        "\n",
        "mode4 = OS.observingModes[3]\n",
        "print(mode[\"Scenario\"])\n",
        "mode4[\"SNR\"] = 5\n",
        "print(mode4[\"SNR\"])\n",
        "print(OS.calc_intTime(TL, sInds, fZ, JEZ, dMag_all[index], WA_WF, mode4, TK=TK).to(u.s))\n",
        "intTimes_WFB4_CON =  OS.calc_intTime(TL, [sInds]*len(dMags), fZ, JEZ, dMags, WA_WF, mode4, TK=TK)\n"
      ],
      "metadata": {
        "colab": {
          "base_uri": "https://localhost:8080/"
        },
        "id": "iOJ9VbwXeIdC",
        "outputId": "fede67f8-3ad1-4fe9-d9f0-84fac254e927"
      },
      "id": "iOJ9VbwXeIdC",
      "execution_count": 87,
      "outputs": [
        {
          "output_type": "stream",
          "name": "stdout",
          "text": [
            "SNR= 5\n",
            "contrast: 18.018 mag\n",
            "distance: [0.366] arcsec\n",
            "OPT_IMG_NFB1_HLC\n",
            "5\n",
            "[0.36639717] arcsec\n",
            "[200.33340585] s\n",
            "CON_IMG_NFB1_HLC\n",
            "5\n",
            "[201.54936856] s\n",
            "OPT_IMG_WFB4_SPC\n",
            "5\n",
            "[0.50409617] arcsec\n",
            "[246.9131037] s\n",
            "CON_SPEC_NFB3_SPC\n",
            "5\n",
            "[730.03834834] s\n"
          ]
        }
      ]
    },
    {
      "cell_type": "code",
      "source": [
        "plt.figure(dpi=150)\n",
        "# plt.semilogy(dMags, intTimes.to(u.s), label=\"SNR=5\")\n",
        "# plt.semilogy(dMags, intTimes_SNR20_OPT.to(u.s), '-', label=\"SNR={0} (optimistic)\".format(20))\n",
        "# plt.semilogy(dMags, intTimes_SNR20_CON.to(u.s), '--', label=\"SNR={0} (conservative)\".format(20))\n",
        "plt.semilogy(dMags, intTimes_NFB1_OPT.to(u.s), '-', label=\"NFB1 (optimistic)\")\n",
        "plt.semilogy(dMags, intTimes_NFB1_CON.to(u.s), '--', label=\"NFB1 (conservative)\")\n",
        "plt.semilogy(dMags, intTimes_WFB4_OPT.to(u.s), '-', label=\"WFB4 (optimistic)\")\n",
        "plt.semilogy(dMags, intTimes_WFB4_CON.to(u.s), '--', label=\"WFB4 (conservative)\")\n",
        "ax = plt.gca()\n",
        "# ax.axvspan(9.635, 10, alpha=0.25, color='gray', ec=None, label=\"contrast for the disk\")\n",
        "plt.xlabel(r\"Target $\\Delta$mag\")\n",
        "plt.ylabel(f\"Integration Time ({intTimes.to(u.s).unit})\")\n",
        "plt.legend();"
      ],
      "metadata": {
        "colab": {
          "base_uri": "https://localhost:8080/",
          "height": 668
        },
        "id": "fWbuJJNtwO_g",
        "outputId": "872b40fa-9d3f-43d4-bfff-7ac3e023f47e"
      },
      "id": "fWbuJJNtwO_g",
      "execution_count": 88,
      "outputs": [
        {
          "output_type": "display_data",
          "data": {
            "text/plain": [
              "<Figure size 960x720 with 1 Axes>"
            ],
            "image/png": "[encoded data removed]"
          },
          "metadata": {}
        }
      ]
    },
    {
      "cell_type": "code",
      "source": [
        "dMags = np.linspace(9, 23, 100)\n",
        "\n",
        "mode[\"SNR\"] = 20\n",
        "print(mode[\"SNR\"])\n",
        "\n",
        "mode = OS.observingModes[4]\n",
        "print(mode[\"Scenario\"])\n",
        "print(OS.calc_intTime(TL, sInds, fZ, JEZ, dMag, WA, mode, TK=TK).to(u.s))\n",
        "intTimes_SNR20_OPT =  OS.calc_intTime(TL, [sInds]*len(dMags), fZ, JEZ, dMags, WA, mode, TK=TK)\n",
        "\n",
        "mode[\"SNR\"] = 20\n",
        "print(mode[\"SNR\"])\n",
        "mode = OS.observingModes[5]\n",
        "print(mode[\"Scenario\"])\n",
        "print(OS.calc_intTime(TL, sInds, fZ, JEZ, dMag, WA, mode, TK=TK).to(u.s))\n",
        "intTimes_SNR20_CON =  OS.calc_intTime(TL, [sInds]*len(dMags), fZ, JEZ, dMags, WA, mode, TK=TK)\n",
        "\n",
        "\n",
        "mode[\"SNR\"] = 50\n",
        "print(mode[\"SNR\"])\n",
        "mode = OS.observingModes[4]\n",
        "print(mode[\"Scenario\"])\n",
        "print(OS.calc_intTime(TL, sInds, fZ, JEZ, dMag, WA, mode, TK=TK).to(u.s))\n",
        "intTimes_SNR50_OPT =  OS.calc_intTime(TL, [sInds]*len(dMags), fZ, JEZ, dMags, WA, mode, TK=TK)\n",
        "\n",
        "mode[\"SNR\"] = 50\n",
        "print(mode[\"SNR\"])\n",
        "\n",
        "mode = OS.observingModes[5]\n",
        "print(mode[\"Scenario\"])\n",
        "print(OS.calc_intTime(TL, sInds, fZ, JEZ, dMag, WA, mode, TK=TK).to(u.s))\n",
        "intTimes_SNR50_CON =  OS.calc_intTime(TL, [sInds]*len(dMags), fZ, JEZ, dMags, WA, mode, TK=TK)\n",
        "\n",
        "\n"
      ],
      "metadata": {
        "id": "V-VktD6FeUpB"
      },
      "id": "V-VktD6FeUpB",
      "execution_count": null,
      "outputs": []
    },
    {
      "cell_type": "code",
      "source": [
        "plt.figure(dpi=300)\n",
        "# plt.semilogy(dMags, intTimes.to(u.s), label=\"SNR=5\")\n",
        "# plt.semilogy(dMags, intTimes_SNR20_OPT.to(u.s), '-', label=\"SNR={0} (optimistic)\".format(20))\n",
        "# plt.semilogy(dMags, intTimes_SNR20_CON.to(u.s), '--', label=\"SNR={0} (conservative)\".format(20))\n",
        "plt.semilogy(dMags, intTimes_SNR50_OPT.to(u.s), '-', label=\"SNR={0} (optimistic)\".format(50))\n",
        "plt.semilogy(dMags, intTimes_SNR50_CON.to(u.s), '--', label=\"SNR={0} (conservative)\".format(50))\n",
        "ax = plt.gca()\n",
        "ax.axvspan(9.635, 10, alpha=0.25, color='gray', ec=None, label=\"contrast for the disk\")\n",
        "plt.xlabel(r\"Target $\\Delta$mag\")\n",
        "plt.ylabel(f\"Integration Time ({intTimes.to(u.s).unit})\")\n",
        "plt.legend();\n"
      ],
      "metadata": {
        "id": "q_5iottVwx-B"
      },
      "id": "q_5iottVwx-B",
      "execution_count": null,
      "outputs": []
    },
    {
      "cell_type": "markdown",
      "id": "e22ec42c-9b7a-4bac-96e6-e2e5ea4c6caa",
      "metadata": {
        "id": "e22ec42c-9b7a-4bac-96e6-e2e5ea4c6caa"
      },
      "source": [
        "**Important** Remember that this is what you could achieve if you had effectively infinite integration time.  It is also the *optimistic* version of this observing mode.  Let's see what happens when we switch to the *conservative* version of the mode:"
      ]
    },
    {
      "cell_type": "code",
      "execution_count": null,
      "id": "6ea5d906-7533-40f8-a984-cb99c5522fbe",
      "metadata": {
        "id": "6ea5d906-7533-40f8-a984-cb99c5522fbe"
      },
      "outputs": [],
      "source": [
        "mode2 = list(filter(lambda mode: mode['Scenario'] == 'CON_IMG_NFB1_HLC', OS.observingModes))[0]\n",
        "mode2[\"Scenario\"]"
      ]
    },
    {
      "cell_type": "code",
      "execution_count": null,
      "id": "2571d3a9-1f15-4d29-afc6-78797202d500",
      "metadata": {
        "id": "2571d3a9-1f15-4d29-afc6-78797202d500"
      },
      "outputs": [],
      "source": [
        "intTimes2 = OS.calc_intTime(TL, [sInds]*len(dMags), fZ, JEZ, dMags, WA, mode2, TK=TK)\n",
        "plt.figure()\n",
        "plt.semilogy(dMags, intTimes2)\n",
        "plt.xlabel(r\"Target $\\Delta$mag\")\n",
        "plt.ylabel(f\"Integration Time ({intTimes2.unit})\")\n",
        "plt.title(fr\"Maximum Achievable $\\Delta$mag $\\approx$ {np.min(dMags[np.isnan(intTimes2)]) :.2f}\");"
      ]
    },
    {
      "cell_type": "markdown",
      "id": "0e1cf7b6-c375-40cb-a5dd-f41abf43374b",
      "metadata": {
        "id": "0e1cf7b6-c375-40cb-a5dd-f41abf43374b"
      },
      "source": [
        "Let's look at one of the spectroscopy modes. This time, we'll identify it by name:"
      ]
    },
    {
      "cell_type": "code",
      "execution_count": null,
      "id": "211ba5d7-2d58-468f-bf08-9ebf9137e73f",
      "metadata": {
        "id": "211ba5d7-2d58-468f-bf08-9ebf9137e73f"
      },
      "outputs": [],
      "source": [
        "specmode = list(\n",
        "    filter(lambda mode: mode[\"Scenario\"] == \"OPT_SPEC_NFB3_SPC\", OS.observingModes)\n",
        ")[0]\n",
        "print(specmode[\"Scenario\"])"
      ]
    },
    {
      "cell_type": "markdown",
      "id": "fbed4b10-e3da-44dd-8844-87b1a49da63b",
      "metadata": {
        "id": "fbed4b10-e3da-44dd-8844-87b1a49da63b"
      },
      "source": [
        "We'll repeat the same integration time calculation as above:"
      ]
    },
    {
      "cell_type": "code",
      "execution_count": null,
      "id": "44962e89-95b3-491a-a792-95b402a294d0",
      "metadata": {
        "id": "44962e89-95b3-491a-a792-95b402a294d0"
      },
      "outputs": [],
      "source": [
        "print(OS.calc_intTime(TL, sInds, fZ, JEZ, dMag, WA, specmode, TK=TK).to(u.s))"
      ]
    },
    {
      "cell_type": "markdown",
      "id": "5d4aba0f-23e0-4b6f-ab8e-0009ce5e33c0",
      "metadata": {
        "id": "5d4aba0f-23e0-4b6f-ab8e-0009ce5e33c0"
      },
      "source": [
        "One note of caution here: we used exactly the same inputs for ``fZ`` and ``JEZ``, but remember that this mode has a different bandpass and central wavelength, meaning that these values might not be appropriate.  For more on this, see Notebook 04 - Simulating Zodiacal Light."
      ]
    },
    {
      "cell_type": "markdown",
      "id": "d5c8c10b-02a9-4ee9-9b6b-087e225c4f68",
      "metadata": {
        "id": "d5c8c10b-02a9-4ee9-9b6b-087e225c4f68"
      },
      "source": [
        "Finally, let's do a test calculation on the wide-field imaging mode:"
      ]
    },
    {
      "cell_type": "code",
      "execution_count": null,
      "id": "165c77af-f9b7-437f-94cd-f1fccf34db0e",
      "metadata": {
        "id": "165c77af-f9b7-437f-94cd-f1fccf34db0e"
      },
      "outputs": [],
      "source": [
        "wfmode = list(\n",
        "    filter(lambda mode: mode[\"Scenario\"] == \"OPT_IMG_WFB4_SPC\", OS.observingModes)\n",
        ")[0]\n",
        "print(OS.calc_intTime(TL, sInds, fZ, JEZ, dMag, WA, wfmode, TK=TK).to(u.s))"
      ]
    },
    {
      "cell_type": "markdown",
      "id": "e5e70fc2-1b3d-4ab4-a183-071b2acb0ee8",
      "metadata": {
        "id": "e5e70fc2-1b3d-4ab4-a183-071b2acb0ee8"
      },
      "source": [
        "Oh no! What happened?  We're targeting the same $\\Delta$mag value as in our previous calculations, so why was this one infeasible?  Remember that this mode has a very different inner and outer working angle form the other two we've already looked at:"
      ]
    },
    {
      "cell_type": "code",
      "execution_count": null,
      "id": "1a4307eb-d6fc-4491-94bd-7a2bc2aaa13b",
      "metadata": {
        "id": "1a4307eb-d6fc-4491-94bd-7a2bc2aaa13b"
      },
      "outputs": [],
      "source": [
        "for m in [mode, specmode, wfmode]:\n",
        "    print(f'{m[\"Scenario\"]}: IWA={m[\"IWA\"]}, OWA={m[\"OWA\"]}')\n",
        "print(f\"Requested WA: {WA}\")"
      ]
    },
    {
      "cell_type": "markdown",
      "id": "aee4304e-a68c-4eb9-9d96-c9d29c1bd950",
      "metadata": {
        "id": "aee4304e-a68c-4eb9-9d96-c9d29c1bd950"
      },
      "source": [
        "So, while this angular separation that we're currently using worked fine for the narrow-field modes, it falls below the inner working angle of the wide-field mode.  We'll redo the calculation exactly at this mode's IWA:"
      ]
    },
    {
      "cell_type": "code",
      "execution_count": null,
      "id": "3b35ce5b-858e-4579-b4f2-a012f71209cb",
      "metadata": {
        "id": "3b35ce5b-858e-4579-b4f2-a012f71209cb"
      },
      "outputs": [],
      "source": [
        "print(OS.calc_intTime(TL, sInds, fZ, JEZ, dMag, np.repeat(wfmode[\"IWA\"],1), wfmode, TK=TK).to(u.s))"
      ]
    },
    {
      "cell_type": "markdown",
      "id": "eee024d0-1875-4ed0-8cec-e3edfc8b4d29",
      "metadata": {
        "id": "eee024d0-1875-4ed0-8cec-e3edfc8b4d29"
      },
      "source": [
        "## Signal to Noise\n",
        "\n",
        "We mentioned SNR very briefly when introducing the `mode` variable, but have largely ignored it since.  However, the desired SNR of the observation is a key parameter that influences the integration time calculation to a great extent.\n",
        "\n",
        "The SNR is stored in the `mode` definition, and, by default, is set to 5 for all of our modes:\n"
      ]
    },
    {
      "cell_type": "code",
      "execution_count": null,
      "id": "78f2d1a9-3501-44fa-87f7-93116d389ad2",
      "metadata": {
        "id": "78f2d1a9-3501-44fa-87f7-93116d389ad2"
      },
      "outputs": [],
      "source": [
        "mode[\"SNR\"]"
      ]
    },
    {
      "cell_type": "markdown",
      "id": "18af4f6d-94d5-4d4d-a425-4d7e369cea37",
      "metadata": {
        "id": "18af4f6d-94d5-4d4d-a425-4d7e369cea37"
      },
      "source": [
        "While certain mode parameters can only be set at instantiation (i.e., when the `OpticalSystem` object is first being defined), `SNR` can be modified at any time:"
      ]
    },
    {
      "cell_type": "code",
      "execution_count": null,
      "id": "a7600c66-4c33-4a00-9f94-bc54bdcd9b27",
      "metadata": {
        "id": "a7600c66-4c33-4a00-9f94-bc54bdcd9b27"
      },
      "outputs": [],
      "source": [
        "mode[\"SNR\"] = 10\n",
        "print(mode[\"SNR\"])\n",
        "print(OS.calc_intTime(TL, sInds, fZ, JEZ, dMag, WA, mode, TK=TK).to(u.s))"
      ]
    },
    {
      "cell_type": "markdown",
      "id": "785840ef-645b-4537-86e3-ba57f6439fa6",
      "metadata": {
        "id": "785840ef-645b-4537-86e3-ba57f6439fa6"
      },
      "source": [
        "We can see doubling the SNR (from 5 to 10) has approximately quadrupled the required integration time.  This makes sense,  as SNR typically varies as the square root of the integration time, with the caveat that you are well away from the systematic noise floor of the system. Let's take a look:"
      ]
    },
    {
      "cell_type": "code",
      "execution_count": null,
      "id": "a25da0c7-23a4-408a-b932-317a845aea15",
      "metadata": {
        "id": "a25da0c7-23a4-408a-b932-317a845aea15"
      },
      "outputs": [],
      "source": [
        "intTimes_SNR10 =  OS.calc_intTime(TL, [sInds]*len(dMags), fZ, JEZ, dMags, WA, mode, TK=TK)\n",
        "plt.figure()\n",
        "plt.semilogy(dMags, intTimes, label=\"SNR=5\")\n",
        "plt.semilogy(dMags, intTimes_SNR10, label=\"SNR=10\")\n",
        "plt.xlabel(r\"Target $\\Delta$mag\")\n",
        "plt.ylabel(f\"Integration Time ({intTimes.unit})\")\n",
        "plt.legend();"
      ]
    },
    {
      "cell_type": "markdown",
      "id": "63730d2c-3b4b-4119-bd97-81c77e280b2b",
      "metadata": {
        "id": "63730d2c-3b4b-4119-bd97-81c77e280b2b"
      },
      "source": [
        "We can also perform sweeps over ranges of SNRs for a fixed $\\Delta$mag.  For this calculation, we'll choose a somewhat more challenging $\\Delta$ mag value:"
      ]
    },
    {
      "cell_type": "code",
      "execution_count": null,
      "id": "63684f97-be97-45f2-b0c0-7f13d3acc8a4",
      "metadata": {
        "id": "63684f97-be97-45f2-b0c0-7f13d3acc8a4"
      },
      "outputs": [],
      "source": [
        "dMag = np.array([20])\n",
        "# try SNRs from 1 to 40\n",
        "SNRs = np.arange(41)\n",
        "intTimes = np.zeros(len(SNRs))*u.d\n",
        "for j, SNR in enumerate(SNRs):\n",
        "    mode[\"SNR\"] = SNR\n",
        "    intTimes[j] = OS.calc_intTime(TL, sInds, fZ, JEZ, dMag, WA, mode, TK=TK)\n",
        "\n",
        "plt.figure()\n",
        "plt.semilogy(SNRs, intTimes)\n",
        "plt.xlabel(rf\"Target SNR for $\\Delta$mag={dMag[0]}\")\n",
        "plt.ylabel(f\"Integration Time ({intTimes.unit})\")\n",
        "plt.title(fr\"Maximum Achievable SNR $\\approx$ {np.min(SNRs[np.isnan(intTimes)]) :.2f}\");"
      ]
    },
    {
      "cell_type": "markdown",
      "id": "a026c5c4-a93c-44ad-9169-4b502050b020",
      "metadata": {
        "id": "a026c5c4-a93c-44ad-9169-4b502050b020"
      },
      "source": [
        "Just as with our previous calculation of integration times for varying $\\Delta$mag values, once we hit the noise floor of the system, integration times are returned as NaN values, which we can use as an approximate diagnostic for what magnitude of SNR corresponds to the noise floor for a given $\\Delta$mag.  We can also compute this value exactly, by noting that the denominator of the integration time expression is:\n",
        "$$C_p^2 - \\left(\\mathrm{SNR} \\cdot C_{sp}\\right)^2$$\n",
        "where $C_p$ is the planet signal rate (photons/time) and $C_{sp}$ is the standard deviation of the residual speckle rate (the portion of star light that is not suppressed by the coronagraph or post-processing.  If this rate did not vary (i.e., if this value was zero) then we could get to infinite SNR given infinite integration time.  It is this rate that sets the system noise floor.  We can therefore find the maximum possible SNR by finding the SNR value for which this expression equals zero:"
      ]
    },
    {
      "cell_type": "code",
      "execution_count": null,
      "id": "5c821165-0169-4ff5-86a2-2aabb6a2e7f8",
      "metadata": {
        "id": "5c821165-0169-4ff5-86a2-2aabb6a2e7f8"
      },
      "outputs": [],
      "source": [
        "Cp, Cb, Csp = OS.Cp_Cb_Csp(TL, sInds, fZ, JEZ, dMag, WA, mode)\n",
        "SNRmax = Cp/Csp\n",
        "print(SNRmax)"
      ]
    },
    {
      "cell_type": "markdown",
      "id": "579c4b6c-9243-40bc-b110-be98c45406d2",
      "metadata": {
        "id": "579c4b6c-9243-40bc-b110-be98c45406d2"
      },
      "source": [
        "## Changing Target Attributes\n",
        "\n",
        "Unlike the `SNR` parameter of the `observingMode` dictionary, attributes of the `TargetList` object representing star properties should **not** be changed after the object is instantiated.  This is because there are many calculations done based on these values at the time the object is created, and none of these calculations will be re-run if you simply reach into the object and change some value.\n",
        "\n",
        "For example, let's say we wish to change the V-band magnitude of the one target in our synthetic target list:"
      ]
    },
    {
      "cell_type": "code",
      "execution_count": null,
      "id": "8d89e9ba-9a3c-4467-9dab-244647543cd0",
      "metadata": {
        "id": "8d89e9ba-9a3c-4467-9dab-244647543cd0"
      },
      "outputs": [],
      "source": [
        "# restore original values:\n",
        "dMag = np.array([17.5])\n",
        "mode[\"SNR\"] = 5\n",
        "print(f\"Initial value of Vmag: {TL.Vmag}\")\n",
        "TL.Vmag[0] = 2\n",
        "print(f\"New value of Vmag: {TL.Vmag}\")"
      ]
    },
    {
      "cell_type": "markdown",
      "id": "1cf76ba0-9280-4fe7-ba4d-684b23b482a3",
      "metadata": {
        "id": "1cf76ba0-9280-4fe7-ba4d-684b23b482a3"
      },
      "source": [
        "While we were able to update the value, using it for calculations will show that the change produces no effect:"
      ]
    },
    {
      "cell_type": "code",
      "execution_count": null,
      "id": "a00856b6-8170-41f8-8d46-a8f442c74a89",
      "metadata": {
        "id": "a00856b6-8170-41f8-8d46-a8f442c74a89"
      },
      "outputs": [],
      "source": [
        "OS.calc_intTime(TL, sInds, fZ, JEZ, dMag, WA, mode, TK=TK).to(u.s)"
      ]
    },
    {
      "cell_type": "markdown",
      "id": "351160e3-9f64-44fc-b3ce-516732c2ddc7",
      "metadata": {
        "id": "351160e3-9f64-44fc-b3ce-516732c2ddc7"
      },
      "source": [
        "As we can see, the computed integration time is exactly what we previously found, despite assuming a different star brightness.  This is because the actual stellar flux being used was computed based on this magnitude at the time when the `TargetList` object was defined, and has not been re-calculated when we manually updated the magnitude.  In order to do this properly, we need to define a new `TargetList` object with the magnitude we want.  For the synthetic star catalog we are currently using, this is controlled by input keyword `VmagFill`:"
      ]
    },
    {
      "cell_type": "code",
      "execution_count": null,
      "id": "df8971ba-2026-42d4-93a8-a127438a9d51",
      "metadata": {
        "id": "df8971ba-2026-42d4-93a8-a127438a9d51"
      },
      "outputs": [],
      "source": [
        "specs[\"VmagFill\"] = 2\n",
        "TL2 = EXOSIMS.Prototypes.TargetList.TargetList(**copy.deepcopy(specs))"
      ]
    },
    {
      "cell_type": "markdown",
      "id": "5ee4e040-5175-4c65-9074-1189ba2beb5c",
      "metadata": {
        "id": "5ee4e040-5175-4c65-9074-1189ba2beb5c"
      },
      "source": [
        "Let's verify that this had the intended effect:"
      ]
    },
    {
      "cell_type": "code",
      "execution_count": null,
      "id": "402d0fea-ee07-4117-b8df-d452f1ce07f1",
      "metadata": {
        "id": "402d0fea-ee07-4117-b8df-d452f1ce07f1"
      },
      "outputs": [],
      "source": [
        "print(TL2.Vmag)"
      ]
    },
    {
      "cell_type": "markdown",
      "id": "a3d28893-019c-40f3-b97e-d744ffbc158b",
      "metadata": {
        "id": "a3d28893-019c-40f3-b97e-d744ffbc158b"
      },
      "source": [
        "How can we tell that anything else has changed? For that, we can look at the `starFlux` attribute of our two target lists:"
      ]
    },
    {
      "cell_type": "code",
      "execution_count": null,
      "id": "5188808b-74e8-4e0c-a72e-90ae4aeced49",
      "metadata": {
        "id": "5188808b-74e8-4e0c-a72e-90ae4aeced49"
      },
      "outputs": [],
      "source": [
        "print(f\"Target List 1: Flux: {TL.star_fluxes[mode['hex']][sInds]}\")\n",
        "print(f\"Target List 2: Flux: {TL2.star_fluxes[mode['hex']][sInds]}\")"
      ]
    },
    {
      "cell_type": "markdown",
      "id": "0828303e-0a4d-4ab8-a27f-fc5e2dd7bf56",
      "metadata": {
        "id": "0828303e-0a4d-4ab8-a27f-fc5e2dd7bf56"
      },
      "source": [
        "As expected, the flux has gone up by approximately an order of magnitude.  We can now use this new target list to perform the integration time calculation:"
      ]
    },
    {
      "cell_type": "code",
      "execution_count": null,
      "id": "407f2598-0868-4e17-b844-975d89721761",
      "metadata": {
        "id": "407f2598-0868-4e17-b844-975d89721761"
      },
      "outputs": [],
      "source": [
        "OS.calc_intTime(TL2, sInds, fZ, JEZ, dMag, WA, mode, TK=TK).to(u.s)"
      ]
    },
    {
      "cell_type": "markdown",
      "id": "a2ea7005-321b-4674-af6e-66b8401af291",
      "metadata": {
        "id": "a2ea7005-321b-4674-af6e-66b8401af291"
      },
      "source": [
        "A note of caution: due to the complex way in which foreground and background counts interact in the integration time calculation, along with the assumptions being made about the effects of post-processing, it is actually possible to get longer integration times for brighter targets in some very specific instances.  This does not necessarily indicate that something is broken, but may mean that you are pushing up against the valid boundaries of the modeling."
      ]
    },
    {
      "cell_type": "code",
      "execution_count": null,
      "id": "3b074574-85ea-470b-8d8d-d45f29d758e4",
      "metadata": {
        "id": "3b074574-85ea-470b-8d8d-d45f29d758e4"
      },
      "outputs": [],
      "source": []
    }
  ],
  "metadata": {
    "kernelspec": {
      "display_name": "Python 3 (ipykernel)",
      "language": "python",
      "name": "python3"
    },
    "language_info": {
      "codemirror_mode": {
        "name": "ipython",
        "version": 3
      },
      "file_extension": ".py",
      "mimetype": "text/x-python",
      "name": "python",
      "nbconvert_exporter": "python",
      "pygments_lexer": "ipython3",
      "version": "3.12.11"
    },
    "colab": {
      "provenance": [],
      "include_colab_link": true
    }
  },
  "nbformat": 4,
  "nbformat_minor": 5
}